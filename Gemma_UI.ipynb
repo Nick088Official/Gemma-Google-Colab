{
  "nbformat": 4,
  "nbformat_minor": 0,
  "metadata": {
    "colab": {
      "provenance": [],
      "include_colab_link": true
    },
    "kernelspec": {
      "name": "python3",
      "display_name": "Python 3"
    },
    "language_info": {
      "name": "python"
    }
  },
  "cells": [
    {
      "cell_type": "markdown",
      "metadata": {
        "id": "view-in-github",
        "colab_type": "text"
      },
      "source": [
        "<a href=\"https://colab.research.google.com/github/Nick088Official/Gemma-Google-Colab/blob/main/Gemma_UI.ipynb\" target=\"_parent\"><img src=\"https://colab.research.google.com/assets/colab-badge.svg\" alt=\"Open In Colab\"/></a>"
      ]
    },
    {
      "cell_type": "markdown",
      "source": [
        "# Run Google Gemma AI Models\n",
        "Check out the models: https://blog.google/technology/developers/gemma-open-models/\n",
        "\n",
        "Made by [Nick088](https://linktr.ee/Nick088)"
      ],
      "metadata": {
        "id": "rhAucpX5Li7V"
      }
    },
    {
      "cell_type": "code",
      "source": [
        "#@title Install & Load Dependencies, Model\n",
        "!pip install einops\n",
        "!pip install accelerate\n",
        "!pip install huggingface_hub\n",
        "import torch\n",
        "from huggingface_hub import login\n",
        "from IPython.display import clear_output\n",
        "from huggingface_hub import hf_hub_download\n",
        "\n",
        "if torch.cuda.is_available():\n",
        "    device = \"cuda\"\n",
        "    print(\"Using GPU\")\n",
        "else:\n",
        "    device = \"cpu\"\n",
        "    print(\"Using CPU\")\n",
        "\n",
        "Google_Gemma_Model = \"gemma-7b\" #@param ['gemma-2b', 'gemma-2b-it', 'gemma-7b', 'gemma-7b-it']\n",
        "\n",
        "#@markdown The normal version are the official ones, the other ones are GGUF quantized, compressed to consume less ram.\n",
        "\n",
        "GGUF_Format = False #@param {type:\"boolean\"}\n",
        "\n",
        "#@markdown Go to https://huggingface.co/settings/tokens and make a token with the read role, and paste it here.\n",
        "Hugging_Face_Read_Token = \"\" #@param {type:\"string\"}\n",
        "\n",
        "# Authenticate\n",
        "login(token=Hugging_Face_Read_Token)\n",
        "\n",
        "if GGUF_Format == False:\n",
        "  from transformers import AutoModelForCausalLM, AutoTokenizer\n",
        "  if device == \"cuda\":\n",
        "    model = AutoModelForCausalLM.from_pretrained(f\"google/{Google_Gemma_Model}\", torch_dtype=\"auto\", trust_remote_code=True)\n",
        "    tokenizer = AutoTokenizer.from_pretrained(f\"google/{Google_Gemma_Model}\", trust_remote_code=True)\n",
        "  else:\n",
        "    model = AutoModelForCausalLM.from_pretrained(f\"google/{Google_Gemma_Model}\", torch_dtype=torch.float32, device_map=\"cpu\", trust_remote_code=True)\n",
        "    tokenizer = AutoTokenizer.from_pretrained(f\"google/{Google_Gemma_Model}\", trust_remote_code=True)\n",
        "else:\n",
        "  !nvidia-smi\n",
        "  if device == \"cuda\":\n",
        "    !CMAKE_ARGS=\"-DLLAMA_CUBLAS=on\" pip install llama-cpp-python\n",
        "  else:\n",
        "    !pip install llama-cpp-python\n",
        "  from huggingface_hub import hf_hub_download\n",
        "  from llama_cpp import Llama\n",
        "  model_name = f\"google/{Google_Gemma_Model}\"\n",
        "  model_file = f\"{Google_Gemma_Model}.gguf\"\n",
        "  model_path = hf_hub_download(model_name,\n",
        "                             filename=model_file,\n",
        "                             local_dir='/content',\n",
        "                             token=Hugging_Face_Read_Token)\n",
        "  from llama_cpp import Llama\n",
        "  llm = Llama(model_path=model_path,\n",
        "            n_gpu_layers=-1)\n",
        "\n",
        "clear_output()\n",
        "if GGUF_Format == False:\n",
        "  print(f\"Downloaded {Google_Gemma_Model}\")\n",
        "else:\n",
        "  print(f\"Downloaded {Google_Gemma_Model} in GGUF Format\")"
      ],
      "metadata": {
        "id": "GyK68jfLe5gy",
        "cellView": "form"
      },
      "execution_count": null,
      "outputs": []
    },
    {
      "cell_type": "code",
      "source": [
        "#@title Run Gemma UI\n",
        "\n",
        "def answer(user_prompt, system_prompt, max_new_tokens, repetition_penalty):\n",
        "  if phi_2_model_version == \"normal\":\n",
        "    # Concatenate system and user prompts\n",
        "    full_prompt = system_prompt + user_prompt\n",
        "\n",
        "    # Tokenize the combined prompt\n",
        "    inputs = tokenizer(full_prompt, return_tensors=\"pt\", return_attention_mask=False)\n",
        "\n",
        "    # Generate text based on the combined prompt and additional inputs\n",
        "    outputs = model.generate(\n",
        "        **inputs,\n",
        "        max_new_tokens=max_new_tokens,\n",
        "        repetition_penalty=repetition_penalty\n",
        "    )\n",
        "\n",
        "    # Extract the generated text from the model output\n",
        "    text = tokenizer.batch_decode(outputs)[0]\n",
        "    text = text[len(system_prompt):].strip()\n",
        "    return text\n",
        "  else:\n",
        "    response = llm(full_prompt, max_tokens=max_new_tokens, repeat_penalty=repetition_penalty)\n",
        "    response = response['choices'][0]['text']\n",
        "    return response\n",
        "\n",
        "# Define the gradio interface\n",
        "interface = gr.Interface(\n",
        "    fn=answer,\n",
        "    inputs=[\n",
        "        gr.Textbox(lines=2, label=\"Your Prompt\"),\n",
        "        gr.Textbox(lines=2, label=\"System Prompt\"),\n",
        "        gr.Slider(value=3000, minimum=256, maximum=8192, step=1, interactive=True, label=\"Max Tokens\"),\n",
        "        gr.Slider(value=1.2, minimum=0.0, maximum=2.0, step=0.1, interactive=True, label=\"Repetition Penalty\"),\n",
        "    ],\n",
        "    outputs=\"text\",\n",
        "    title=f\"{Google_Gemma_Model}\",\n",
        ")\n",
        "\n",
        "\n",
        "# Launch the gradio interface\n",
        "interface.launch(share=True, debug=True)"
      ],
      "metadata": {
        "id": "4901EHafGkhK",
        "cellView": "form"
      },
      "execution_count": null,
      "outputs": []
    }
  ]
}